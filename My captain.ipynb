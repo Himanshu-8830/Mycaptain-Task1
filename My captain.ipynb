{
 "cells": [
  {
   "cell_type": "code",
   "execution_count": 8,
   "metadata": {
    "scrolled": true
   },
   "outputs": [
    {
     "name": "stdout",
     "output_type": "stream",
     "text": [
      "Input the radius of the circle:1.1\n",
      "The area of the circle with radius  1.1 is : 3.7994000000000008\n"
     ]
    }
   ],
   "source": [
    "r=float(input(\"Input the radius of the circle:\"))\n",
    "area=3.14*r*r\n",
    "print(\"The area of the circle with radius \",r,\"is :\",area)"
   ]
  },
  {
   "cell_type": "code",
   "execution_count": 9,
   "metadata": {
    "scrolled": true
   },
   "outputs": [
    {
     "name": "stdout",
     "output_type": "stream",
     "text": [
      "Input the filename:abc.py\n",
      "The extension of the file is : py\n"
     ]
    }
   ],
   "source": [
    "f=input(\"Input the filename:\")\n",
    "fn=f.split(\".\")\n",
    "print(\"The extension of the file is : \"+fn[-1])"
   ]
  },
  {
   "cell_type": "code",
   "execution_count": null,
   "metadata": {},
   "outputs": [],
   "source": []
  }
 ],
 "metadata": {
  "kernelspec": {
   "display_name": "Python 3",
   "language": "python",
   "name": "python3"
  },
  "language_info": {
   "codemirror_mode": {
    "name": "ipython",
    "version": 3
   },
   "file_extension": ".py",
   "mimetype": "text/x-python",
   "name": "python",
   "nbconvert_exporter": "python",
   "pygments_lexer": "ipython3",
   "version": "3.8.5"
  }
 },
 "nbformat": 4,
 "nbformat_minor": 4
}
