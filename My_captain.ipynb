{
  "nbformat": 4,
  "nbformat_minor": 0,
  "metadata": {
    "colab": {
      "name": "My captain",
      "provenance": [],
      "authorship_tag": "ABX9TyNEi7qS1s7QmZs5oVP9UiZf",
      "include_colab_link": true
    },
    "kernelspec": {
      "name": "python3",
      "display_name": "Python 3"
    },
    "language_info": {
      "name": "python"
    }
  },
  "cells": [
    {
      "cell_type": "markdown",
      "metadata": {
        "id": "view-in-github",
        "colab_type": "text"
      },
      "source": [
        "<a href=\"https://colab.research.google.com/github/Himanshu-8830/Mycaptain-Task1/blob/main/My_captain.ipynb\" target=\"_parent\"><img src=\"https://colab.research.google.com/assets/colab-badge.svg\" alt=\"Open In Colab\"/></a>"
      ]
    },
    {
      "cell_type": "markdown",
      "metadata": {
        "id": "zA8ESkjwArhi"
      },
      "source": [
        "Area of circle\n"
      ]
    },
    {
      "cell_type": "code",
      "metadata": {
        "colab": {
          "base_uri": "https://localhost:8080/"
        },
        "id": "AoKxhHboAg2I",
        "outputId": "29f74fda-ba33-4a63-ad39-3d38ff388d84"
      },
      "source": [
        "r=float(input(\"Input the radius of the circle:\"))\n",
        "area=3.14*r*r\n",
        "print(\"The area of the circle with radius \",r,\"is :\",area)"
      ],
      "execution_count": 1,
      "outputs": [
        {
          "output_type": "stream",
          "text": [
            "Input the radius of the circle:1.1\n",
            "The area of the circle with radius  1.1 is : 3.7994000000000008\n"
          ],
          "name": "stdout"
        }
      ]
    },
    {
      "cell_type": "markdown",
      "metadata": {
        "id": "seOcWuegBMZ5"
      },
      "source": [
        "Extension of file\n"
      ]
    },
    {
      "cell_type": "code",
      "metadata": {
        "colab": {
          "base_uri": "https://localhost:8080/"
        },
        "id": "05_SacMnA_S9",
        "outputId": "4e1b319e-d9a5-4556-99ae-62a5b758c858"
      },
      "source": [
        "f=input(\"Input the filename:\")\n",
        "fn=f.split(\".\")\n",
        "print(\"The extension of the file is : \"+fn[-1])"
      ],
      "execution_count": 2,
      "outputs": [
        {
          "output_type": "stream",
          "text": [
            "Input the filename:abc.py\n",
            "The extension of the file is : py\n"
          ],
          "name": "stdout"
        }
      ]
    }
  ]
}